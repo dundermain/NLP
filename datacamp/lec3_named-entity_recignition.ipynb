{
 "cells": [
  {
   "cell_type": "markdown",
   "metadata": {},
   "source": [
    "# named entity recognition\n",
    "\n",
    "* Named Entity Recognition or NER for short is a natural language processing task used to identify important named entities in the text -- such as people, places and organizations -- they can even be dates, states, works of art and other categories depending on the libraries and notation you use\n",
    "\n",
    "* NLTK allows you to interact with named entity recognition via it's own model, but also the Stanford CoreNLP library\n",
    "\n",
    "* pos_tag assigns part of speech to each words. Some common part of speech are \n",
    "NN: Noun, singular or mass   \n",
    "NNS: Noun, plural   \n",
    "VB: Verb, base form\n",
    "VBD: Verb, past tense   \n",
    "VBG: Verb, gerund or present participle   \n",
    "VBN: Verb, past participle   \n",
    "JJ: Adjective   \n",
    "RB: Adverb\n",
    "PRP: Personal pronoun\n",
    "\n",
    "* pos_tagged sentences are then passed to ne_chunk function, or named entity chunk, which will return the sentence as a tree where named entities mentioned in unstructured text are classfied into predefined categories . For example\n",
    "\n",
    "PERSON: Persons (e.g., John Doe, Queen Elizabeth)\n",
    "ORGANIZATION: Organizations (e.g., Apple Inc., Google)\n",
    "GPE: Geopolitical Entities (e.g., USA, California, London)\n",
    "LOCATION: Locations (e.g., Mountain View, Silicon Valley)\n",
    "DATE: Dates (e.g., 2023-11-05)\n",
    "TIME: Times (e.g., 3:15 PM)\n",
    "MONEY: Monetary values (e.g., $10, €20)\n",
    "PERCENT: Percentages (e.g., 25%)"
   ]
  },
  {
   "cell_type": "code",
   "execution_count": null,
   "metadata": {},
   "outputs": [],
   "source": [
    "import nltk\n",
    "sentence = '''In New York, I like to ride the Metro to visit MOMA and some restaurants rated well by Ruth Reichl.'''\n",
    "tokenized_sent = nltk.word_tokenize(sentence)\n",
    "tagged_sent = nltk.pos_tag(tokenized_sent)      #pos_tag is part of speech tagging which assigns grammatical role for each words. \n",
    "tagged_sent[:3]\n",
    "\n",
    "#this will print [('In', 'IN'), ('New', 'NNP'), ('York', 'NNP')] \n",
    "\n",
    "print(nltk.ne_chunk(tagged_sent))\n"
   ]
  }
 ],
 "metadata": {
  "kernelspec": {
   "display_name": "base",
   "language": "python",
   "name": "python3"
  },
  "language_info": {
   "name": "python",
   "version": "3.11.5"
  }
 },
 "nbformat": 4,
 "nbformat_minor": 2
}
