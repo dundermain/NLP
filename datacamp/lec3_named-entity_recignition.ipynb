{
 "cells": [
  {
   "cell_type": "markdown",
   "metadata": {},
   "source": [
    "# named entity recognition\n",
    "\n",
    "* Named Entity Recognition or NER for short is a natural language processing task used to identify important named entities in the text -- such as people, places and organizations -- they can even be dates, states, works of art and other categories depending on the libraries and notation you use\n",
    "\n",
    "* NLTK allows you to interact with named entity recognition via it's own model, but also the Stanford CoreNLP library\n",
    "\n",
    "* pos_tag assigns part of speech to each words. Some common part of speech are \n",
    "NN: Noun, singular or mass   \n",
    "NNS: Noun, plural   \n",
    "VB: Verb, base form\n",
    "VBD: Verb, past tense   \n",
    "VBG: Verb, gerund or present participle   \n",
    "VBN: Verb, past participle   \n",
    "JJ: Adjective   \n",
    "RB: Adverb\n",
    "PRP: Personal pronoun\n",
    "\n",
    "* pos_tagged sentences are then passed to ne_chunk function, or named entity chunk, which will return the sentence as a tree where named entities mentioned in unstructured text are classfied into predefined categories . For example\n",
    "\n",
    "PERSON: Persons (e.g., John Doe, Queen Elizabeth)\n",
    "ORGANIZATION: Organizations (e.g., Apple Inc., Google)\n",
    "GPE: Geopolitical Entities (e.g., USA, California, London)\n",
    "LOCATION: Locations (e.g., Mountain View, Silicon Valley)\n",
    "DATE: Dates (e.g., 2023-11-05)\n",
    "TIME: Times (e.g., 3:15 PM)\n",
    "MONEY: Monetary values (e.g., $10, €20)\n",
    "PERCENT: Percentages (e.g., 25%)"
   ]
  },
  {
   "cell_type": "code",
   "execution_count": null,
   "metadata": {},
   "outputs": [],
   "source": [
    "import nltk\n",
    "sentence = '''In New York, I like to ride the Metro to visit MOMA and some restaurants rated well by Ruth Reichl.'''\n",
    "tokenized_sent = nltk.word_tokenize(sentence)\n",
    "tagged_sent = nltk.pos_tag(tokenized_sent)      #pos_tag is part of speech tagging which assigns grammatical role for each words. \n",
    "tagged_sent[:3]\n",
    "\n",
    "#this will print [('In', 'IN'), ('New', 'NNP'), ('York', 'NNP')] \n",
    "\n",
    "print(nltk.ne_chunk(tagged_sent))\n"
   ]
  },
  {
   "cell_type": "code",
   "execution_count": null,
   "metadata": {},
   "outputs": [],
   "source": [
    "from nltk.tokenize import sent_tokenize, word_tokenize\n",
    "from collections import defaultdict\n",
    "import matplotlib.pyplot as plt"
   ]
  },
  {
   "cell_type": "code",
   "execution_count": null,
   "metadata": {},
   "outputs": [],
   "source": [
    "article = '''The taxi-hailing company Uber brings into very sharp focus the question of whether corporations can be said to have a moral character. If any human being were to behave with the single-minded and ruthless greed of the company, we would consider them sociopathic. Uber wanted to know as much as possible about the people who use its service, and those who don’t. It has an arrangement with unroll.me, a company which offered a free service for unsubscribing from junk mail, to buy the contacts unroll.me customers had had with rival taxi companies. Even if their email was notionally anonymised, this use of it was not something the users had bargained for. Beyond that, it keeps track of the phones that have been used to summon its services even after the original owner has sold them, attempting this with Apple’s phones even thought it is forbidden by the company.\n",
    "\n",
    "\n",
    "Uber has also tweaked its software so that regulatory agencies that the company regarded as hostile would, when they tried to hire a driver, be given false reports about the location of its cars. Uber management booked and then cancelled rides with a rival taxi-hailing company which took their vehicles out of circulation. Uber deny this was the intention. The punishment for this behaviour was negligible. Uber promised not to use this “greyball” software against law enforcement – one wonders what would happen to someone carrying a knife who promised never to stab a policeman with it. Travis Kalanick of Uber got a personal dressing down from Tim Cook, who runs Apple, but the company did not prohibit the use of the app. Too much money was at stake for that.\n",
    "\n",
    "\n",
    "Millions of people around the world value the cheapness and convenience of Uber’s rides too much to care about the lack of drivers’ rights or pay. Many of the users themselves are not much richer than the drivers. The “sharing economy” encourages the insecure and exploited to exploit others equally insecure to the profit of a tiny clique of billionaires. Silicon Valley’s culture seems hostile to humane and democratic values. The outgoing CEO of Yahoo, Marissa Mayer, who is widely judged to have been a failure, is likely to get a $186m payout. This may not be a cause for panic, any more than the previous hero worship should have been a cause for euphoria. Yet there’s an urgent political task to tame these companies, to ensure they are punished when they break the law, that they pay their taxes fairly and that they behave responsibly.'''\n",
    "\n",
    "\n",
    "# Tokenize the article into sentences: sentences\n",
    "sentences = sent_tokenize(article)\n",
    "\n",
    "# Tokenize each sentence into words: token_sentences\n",
    "token_sentences = [word_tokenize(sent) for sent in sentences]\n",
    "\n",
    "# Tag each tokenized sentence into parts of speech: pos_sentences\n",
    "pos_sentences = [nltk.pos_tag(sent) for sent in token_sentences] \n",
    "\n",
    "# Create the named entity chunks: chunked_sentences\n",
    "chunked_sentences = nltk.ne_chunk_sents(pos_sentences, binary=True)\n",
    "\n",
    "# Test for stems of the tree with 'NE' tags\n",
    "for sent in chunked_sentences:\n",
    "    for chunk in sent:\n",
    "        if hasattr(chunk, \"label\") and chunk.label() == \"NE\":\n",
    "            print(chunk)\n",
    "\n",
    "\n",
    "# Create the defaultdict: ner_categories\n",
    "ner_categories = defaultdict(int)\n",
    "\n",
    "# Create the nested for loop\n",
    "for sent in chunked_sentences:\n",
    "    for chunk in sent:\n",
    "        if hasattr(chunk, 'label'):\n",
    "            ner_categories[chunk.label()] += 1\n",
    "            \n",
    "# Create a list from the dictionary keys for the chart labels: labels\n",
    "labels = list(ner_categories.keys())\n",
    "\n",
    "# Create a list of the values: values\n",
    "values = [ner_categories.get(v) for v in labels]\n",
    "\n",
    "# Create the pie chart\n",
    "plt.pie(values, labels=labels, autopct='%1.1f%%', startangle=140)\n",
    "\n",
    "# Display the chart\n",
    "plt.show()\n"
   ]
  },
  {
   "cell_type": "markdown",
   "metadata": {},
   "source": [
    "# intro to spacy\n",
    "\n",
    "* SpaCy is a NLP library similar to Gensim, but with different implementations, including a particular focus on creating NLP pipelines to generate models and corpora. \n",
    "\n",
    "* It has several linked objects, including entity which is an Entity Recognizer object from the pipeline module. This is what is used to find entities in the text.\n",
    "\n",
    "* Then we load a new document by passing a string into the NLP variable. When the document is loaded, the named entities are stored as a document attribute called ents.\n",
    "\n",
    "* We can also investigate the labels of each entity by using indexing to pick out the first entity and the label_ attribute to see the label for that particular entity.\n",
    "\n",
    "* Spacy comes with informal language corpora, allowing you to more easily find entities in documents like Tweets and chat messages."
   ]
  },
  {
   "cell_type": "code",
   "execution_count": null,
   "metadata": {},
   "outputs": [],
   "source": [
    "import spacy\n",
    "nlp = spacy.load('en_core_web_sm')\n",
    "nlp.entity\n",
    "\n",
    "# this w<spacy.pipeline.EntityRecognizer at 0x7f76b75e68b8>(Berlin, Germany, Angela Merkel)\n",
    "# \n",
    "\n",
    "doc = nlp(\"\"\"Berlin is the capital of Germany;and the residence of Chancellor Angela Merkel.\"\"\")\n",
    "doc.ents\n",
    "\n",
    "#it will print all the entities present in the document. like Berlin, Germany, Angela Merkel\n",
    "\n",
    "print(doc.ents[0], doc.ents[0].label_)\n",
    "# it will print named entity's text and label like Berlin GPE (GPE means geopolitical entitiy)"
   ]
  }
 ],
 "metadata": {
  "kernelspec": {
   "display_name": "base",
   "language": "python",
   "name": "python3"
  },
  "language_info": {
   "name": "python",
   "version": "3.11.5"
  }
 },
 "nbformat": 4,
 "nbformat_minor": 2
}
