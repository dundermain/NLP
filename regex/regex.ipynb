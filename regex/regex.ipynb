{
 "cells": [
  {
   "cell_type": "code",
   "execution_count": null,
   "metadata": {},
   "outputs": [
    {
     "name": "stdout",
     "output_type": "stream",
     "text": [
      "['9998887776', '(999)-888-7777']\n"
     ]
    }
   ],
   "source": [
    "import re\n",
    "\n",
    "text = \"Musk Melon's number is 9998887776, you can call him for any queries regarding dodge. Tesla's revenue is 1000 billion. Tesla's CFO number is (999)-888-7777\"\n",
    "\n",
    "pattern = '\\(\\d{3}\\)-\\d{3}-\\d{4}|\\d{10}'      # \\d{3} searches for 3 consecutive digits, | means or, \\( means we are expecting a bracket, since ( is special symbol, we use back slash before it\n",
    "\n",
    "print(re.findall(pattern, text))"
   ]
  }
 ],
 "metadata": {
  "kernelspec": {
   "display_name": "base",
   "language": "python",
   "name": "python3"
  },
  "language_info": {
   "codemirror_mode": {
    "name": "ipython",
    "version": 3
   },
   "file_extension": ".py",
   "mimetype": "text/x-python",
   "name": "python",
   "nbconvert_exporter": "python",
   "pygments_lexer": "ipython3",
   "version": "3.11.5"
  }
 },
 "nbformat": 4,
 "nbformat_minor": 2
}
