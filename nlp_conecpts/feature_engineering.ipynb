{
 "cells": [
  {
   "cell_type": "markdown",
   "metadata": {},
   "source": [
    "Feature engineering in NLP is ways to convert words into numbers\n",
    "\n",
    "Different process include:\n",
    "1. TF-IDF Vectoriser\n",
    "2. One Hot Encoding\n",
    "3. Word embedding"
   ]
  }
 ],
 "metadata": {
  "language_info": {
   "name": "python"
  }
 },
 "nbformat": 4,
 "nbformat_minor": 2
}
